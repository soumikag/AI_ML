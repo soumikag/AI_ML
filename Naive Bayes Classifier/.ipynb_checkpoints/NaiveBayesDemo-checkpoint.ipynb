{
 "cells": [
  {
   "cell_type": "markdown",
   "id": "f80af2c0-f2b7-4806-b4d6-ccc9ca8a2d62",
   "metadata": {},
   "source": [
    "# Naive Bayes Classifier\n",
    "\n",
    "This Naive Bayes Classifier will be trained and evaluated on the following datasets:\n",
    "* UCI mushroom dataset [1]\n",
    "* UCI breast cancer dataset [2]\n",
    "\n",
    "It is evaluated via cross validation with error rate as the evaluation metric."
   ]
  },
  {
   "cell_type": "code",
   "execution_count": 1,
   "id": "57dd903f-5172-4a95-9c4e-7fda9c1996d2",
   "metadata": {},
   "outputs": [],
   "source": [
    "import NaiveBayes\n",
    "import numpy as np"
   ]
  },
  {
   "cell_type": "markdown",
   "id": "92fc3389-ef82-4067-835b-3d455da859c9",
   "metadata": {},
   "source": [
    "## Mushroom Dataset\n",
    "\n",
    "The model will predict whether an instance is edible based on 22 features.\n",
    "\n",
    "10-fold cross validation will be used. "
   ]
  },
  {
   "cell_type": "code",
   "execution_count": 2,
   "id": "bbcb6003-7386-4dd5-89e7-7cfa2d355b91",
   "metadata": {},
   "outputs": [
    {
     "name": "stdout",
     "output_type": "stream",
     "text": [
      "Starting cross validation:\n",
      "\n",
      "Fold 1 error rate: 0.008849557522123894\n",
      "\n",
      "Fold 2 error rate: 0.0\n",
      "\n",
      "Fold 3 error rate: 0.0\n",
      "\n",
      "Fold 4 error rate: 0.008849557522123894\n",
      "\n",
      "Fold 5 error rate: 0.017699115044247787\n",
      "\n",
      "Fold 6 error rate: 0.0\n",
      "\n",
      "Fold 7 error rate: 0.0\n",
      "\n",
      "Fold 8 error rate: 0.0\n",
      "\n",
      "Fold 9 error rate: 0.0\n",
      "\n",
      "Fold 10 error rate: 0.008849557522123894\n",
      "\n",
      "Mean: 0.004424778761061947\n",
      "Variance: 3.9157334168689815e-05\n",
      "\n"
     ]
    }
   ],
   "source": [
    "dataset_1 = np.genfromtxt(\"data/mushroom/agaricus-lepiota.data\", delimiter = \",\", \n",
    "                        dtype = \"str\").astype(str)\n",
    "dataset_1 = dataset_1[np.all(dataset_1 != '?', axis=1)]\n",
    "print(\"Starting cross validation:\\n\")\n",
    "NaiveBayes.cross_validate(dataset_1, False, 10)"
   ]
  },
  {
   "cell_type": "markdown",
   "id": "41bbf720-308d-4180-bd20-fcd265317ba9",
   "metadata": {},
   "source": [
    "## Breast Cancer Dataset\n",
    "\n",
    "The model will predict recurrence based on patient age, menopausal status, tumor size, number of INV nodes, node caps, degree of malignancy, breast side, breast quadrant, and irradiation)\n",
    "\n",
    "5-fold cross validation will be used. "
   ]
  },
  {
   "cell_type": "code",
   "execution_count": 10,
   "id": "f55b8807-7ed4-4199-95fe-64d0daaa5201",
   "metadata": {},
   "outputs": [
    {
     "name": "stdout",
     "output_type": "stream",
     "text": [
      "Starting cross validation:\n",
      "\n",
      "Fold 1 error rate: 0.17857142857142858\n",
      "\n",
      "Fold 2 error rate: 0.10714285714285714\n",
      "\n",
      "Fold 3 error rate: 0.14285714285714285\n",
      "\n",
      "Fold 4 error rate: 0.14285714285714285\n",
      "\n",
      "Fold 5 error rate: 0.10714285714285714\n",
      "\n",
      "Mean: 0.1357142857142857\n",
      "Variance: 0.0008928571428571432\n",
      "\n"
     ]
    }
   ],
   "source": [
    "dataset_2 = np.genfromtxt(\"data/wisconsin_breast_cancer/breast-cancer-wisconsin.data\", delimiter = \",\", \n",
    "                        dtype = \"str\").astype(str)\n",
    "dataset_2[:,[0,10]] = dataset_2[:,[10,0]]\n",
    "print(\"Starting cross validation:\\n\")\n",
    "NaiveBayes.cross_validate(dataset_2, False, 5)"
   ]
  },
  {
   "cell_type": "markdown",
   "id": "fff29fdc-ed56-4fc0-be2e-6ee265948b7d",
   "metadata": {},
   "source": [
    "Citations:\n",
    "\n",
    "[1] Mushroom. (1987). UCI Machine Learning Repository. https://doi.org/10.24432/C5959T.\n",
    "\n",
    "[2] Wolberg,WIlliam. (1992). Breast Cancer Wisconsin (Original). UCI Machine Learning Repository. https://doi.org/10.24432/C5HP4Z.\n"
   ]
  },
  {
   "cell_type": "code",
   "execution_count": null,
   "id": "f4a12fd8-a972-4ae0-a862-088e5cebb266",
   "metadata": {},
   "outputs": [],
   "source": []
  }
 ],
 "metadata": {
  "kernelspec": {
   "display_name": "Python 3 (ipykernel)",
   "language": "python",
   "name": "python3"
  },
  "language_info": {
   "codemirror_mode": {
    "name": "ipython",
    "version": 3
   },
   "file_extension": ".py",
   "mimetype": "text/x-python",
   "name": "python",
   "nbconvert_exporter": "python",
   "pygments_lexer": "ipython3",
   "version": "3.11.7"
  }
 },
 "nbformat": 4,
 "nbformat_minor": 5
}
